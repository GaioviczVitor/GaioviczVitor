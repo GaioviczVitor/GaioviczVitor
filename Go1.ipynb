{
 "cells": [
  {
   "cell_type": "code",
   "execution_count": 7,
   "metadata": {},
   "outputs": [
    {
     "name": "stdout",
     "output_type": "stream",
     "text": [
      "o\n",
      " \n",
      "r\n",
      "A\n",
      "t\n",
      "o\n",
      " \n",
      "r\n",
      "o\n",
      "e\n",
      "u\n",
      " \n",
      "A\n",
      " \n",
      "r\n",
      "o\n",
      "u\n",
      "p\n",
      "A\n",
      " \n",
      "d\n",
      "o\n",
      " \n",
      "r\n",
      "e\n",
      "i\n",
      " \n",
      "d\n",
      "e\n",
      " \n",
      "r\n",
      "o\n",
      "m\n",
      "A\n",
      "A\n"
     ]
    }
   ],
   "source": [
    "frase = 'o rato roeu a roupa do rei de roma'\n",
    "tamanho_fras =  len(frase)\n",
    "contador = 0\n",
    "new_string = ''\n",
    "input_user = input('Mudar letra Maiuscula: ')\n",
    "\n",
    "while contador < tamanho_fras:\n",
    "    new_string += frase[contador]\n",
    "    letra = frase[contador]\n",
    "    if letra == input_user:\n",
    "        new_string = input_user.upper()\n",
    "        \n",
    "    else:\n",
    "        new_string = letra\n",
    "\n",
    "    print(new_string)\n",
    "    contador = contador + 1\n",
    "\n",
    "print(new_string)\n"
   ]
  }
 ],
 "metadata": {
  "interpreter": {
   "hash": "ff7e23e62b30d4813d34c68f66469adcbd940f8b54964b8f74367708afdc59a8"
  },
  "kernelspec": {
   "display_name": "Python 3.9.7 ('base')",
   "language": "python",
   "name": "python3"
  },
  "language_info": {
   "codemirror_mode": {
    "name": "ipython",
    "version": 3
   },
   "file_extension": ".py",
   "mimetype": "text/x-python",
   "name": "python",
   "nbconvert_exporter": "python",
   "pygments_lexer": "ipython3",
   "version": "3.9.7"
  },
  "orig_nbformat": 4
 },
 "nbformat": 4,
 "nbformat_minor": 2
}
